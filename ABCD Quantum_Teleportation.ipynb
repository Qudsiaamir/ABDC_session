{
 "cells": [
  {
   "cell_type": "markdown",
   "metadata": {},
   "source": [
    "### Coding with Qiskit Episode 5\n",
    "\n",
    "# Quantum Teleportation\n",
    "\n",
    "#### Written by Abraham Asfaw, IBM TJ Watson Research Center"
   ]
  },
  {
   "cell_type": "markdown",
   "metadata": {},
   "source": [
    "In this episode of Coding with Qiskit, we learned about quantum teleportation. Briefly, quantum teleportation allows us to transfer a quantum state from one qubit to another. This might seem fundamentally impossible due to the [no-cloning theorem](https://en.wikipedia.org/wiki/No-cloning_theorem), but the reason it works is because it uses entanglement as a resource. Using the teleportation protocol, quantum information is destroyed in one place, and an exact copy is recreated in another place.\n",
    "\n",
    "The teleportation protocol was [described by Charles Bennett and co-workers in March 1993](#1), about a decade after the [no-cloning theorem was reported in October 1982](#2).\n",
    "\n",
    "**Link to Episode 5:** https://www.youtube.com/watch?v=mMwovHK2NrE"
   ]
  },
  {
   "cell_type": "markdown",
   "metadata": {},
   "source": [
    "# Building the circuit for quantum teleportation"
   ]
  },
  {
   "cell_type": "markdown",
   "metadata": {},
   "source": [
    "Let's say we are trying to teleport the quantum state $\\vert\\psi\\rangle$ from Alice to Bob. The teleportation protocol can be summarized as follows:\n",
    "\n",
    "1. Alice and Bob first create an entangled Bell pair between their two qubits. They do this by using the process described in the [Hello World video](https://www.youtube.com/watch?v=RrUTwq5jKM4) by applying a Hadamard and CX gate. \n",
    "\n",
    "2. Next, Alice applies a series of operations between the qubit with state $\\vert\\psi\\rangle$ and her half of the Bell pair.\n",
    "\n",
    "3. Finally, Alice measures both qubits (the one that initially contained $\\vert\\psi\\rangle$ and the other that contained her half of the Bell pair), and reports these results to Bob.\n",
    "\n",
    "4. Depending on what Alice says, Bob applies a couple of gates to his half of the Bell pair.\n",
    "\n",
    "5. And voila! The state $\\vert\\psi\\rangle$ has teleported to Bob's qubit."
   ]
  },
  {
   "cell_type": "markdown",
   "metadata": {},
   "source": [
    "In the version that we are building here, Bob will apply his gates conditioned on Alice's qubits, instead of the classical outcomes of the measurements that Alice did. There is a subtle difference between these two methods. While the first method (using Alice's qubits after measurement as the controls of Bob's gates) is easy to implement, the second method (using the classical results of Alice's measurement as controls of Bob's gates) allows quantum teleportation over long distances."
   ]
  },
  {
   "cell_type": "markdown",
   "metadata": {},
   "source": [
    "# X-gate inverts the state 1->0 or 0->1"
   ]
  },
  {
   "cell_type": "markdown",
   "metadata": {},
   "source": [
    "# H-gate assigns equal superpositions of 1 and 0"
   ]
  },
  {
   "cell_type": "code",
   "execution_count": 2,
   "metadata": {},
   "outputs": [],
   "source": [
    "from qiskit import *"
   ]
  },
  {
   "cell_type": "code",
   "execution_count": 18,
   "metadata": {},
   "outputs": [
    {
     "data": {
      "image/png": "[encoded data removed]",
      "text/plain": [
       "<Figure size 233.576x144.48 with 1 Axes>"
      ]
     },
     "execution_count": 18,
     "metadata": {},
     "output_type": "execute_result"
    }
   ],
   "source": [
    "circuit = QuantumCircuit(1,1)\n",
    "circuit.h(0)\n",
    "circuit.measure(0,0)\n",
    "%matplotlib inline\n",
    "circuit.draw(output='mpl')"
   ]
  },
  {
   "cell_type": "code",
   "execution_count": 25,
   "metadata": {},
   "outputs": [
    {
     "data": {
      "image/png": "[encoded data removed]",
      "text/plain": [
       "<Figure size 504x360 with 1 Axes>"
      ]
     },
     "execution_count": 25,
     "metadata": {},
     "output_type": "execute_result"
    }
   ],
   "source": [
    "simulator = Aer.get_backend('qasm_simulator')\n",
    "result = execute(circuit, backend=simulator, shots=1024).result()\n",
    "from qiskit.visualization import plot_histogram\n",
    "plot_histogram(result.get_counts(circuit))"
   ]
  },
  {
   "cell_type": "code",
   "execution_count": 33,
   "metadata": {},
   "outputs": [
    {
     "data": {
      "text/plain": [
       "<qiskit.circuit.instructionset.InstructionSet at 0x231c4cf0348>"
      ]
     },
     "execution_count": 33,
     "metadata": {},
     "output_type": "execute_result"
    }
   ],
   "source": [
    "circuit = QuantumCircuit(3,1)\n",
    "# QUBIT ORDERING\n",
    "# q0 = State |psi> that we want to teleport\n",
    "# q1 = Alice's half of the Bell pair\n",
    "# q2 = Bob's half of the Bell pair, the destination of the teleportation\n",
    "\n",
    "# ========================\n",
    "# Step 0: Create the state to be teleported in qubit 0\n",
    "circuit.h(0) # qubit 0 is now in state |1>, and this is the state that we want to teleport\n",
    "# circuit.measure(0,3)\n",
    "circuit.barrier() # just a visual aid\n",
    "\n",
    "# ========================\n",
    "# Step 1: create an entangled Bell pair between Alice and Bob (qubits 1 and 2)\n",
    "circuit.h(1)\n",
    "circuit.cx(1,2)\n",
    "\n",
    "circuit.barrier() # just a visual aid\n",
    "\n",
    "# ========================\n",
    "# Step 2: Alice applies a series of operations \n",
    "# between the state to teleport (qubit 0) and her half of the Bell pair (qubit 1)\n",
    "circuit.cx(0,1)\n",
    "circuit.h(0)\n",
    "\n",
    "circuit.barrier() # just a visual aid\n",
    "\n",
    "# ========================\n",
    "# Step 3: Alice measures both qubits 0 and 1\n",
    "# circuit.measure([0, 1], [0, 1]) # results stored in classical bits 0 and 1, respectively\n",
    "\n",
    "circuit.barrier() # just a visual aid\n",
    "\n",
    "# ========================\n",
    "# Step 4: Now that Alice has measured the two qubits, their states have collapsed to 0 and 1. \n",
    "# Bob can do operations conditioned on these qubits to his half of the Bell pair\n",
    "# Note that while we're conditioning Bob's operation on the collapsed qubits 0 and 1, we can\n",
    "# do teleportation over long distances by transmitting the classical information in classical bits 0 and 1\n",
    "circuit.cx(1, 2)\n",
    "circuit.cz(0, 2)\n",
    "\n",
    "# Step 5: Done! Measure Bob's qubit to find out what state it is in\n",
    "circuit.measure([2], [0])"
   ]
  },
  {
   "cell_type": "markdown",
   "metadata": {},
   "source": [
    "As always, let's draw the circuit before simulating to make sure it's doing what we want"
   ]
  },
  {
   "cell_type": "code",
   "execution_count": 34,
   "metadata": {},
   "outputs": [
    {
     "data": {
      "image/png": "[encoded data removed]",
      "text/plain": [
       "<Figure size 900.592x264.88 with 1 Axes>"
      ]
     },
     "execution_count": 34,
     "metadata": {},
     "output_type": "execute_result"
    }
   ],
   "source": [
    "%matplotlib inline\n",
    "circuit.draw(output='mpl')"
   ]
  },
  {
   "cell_type": "markdown",
   "metadata": {},
   "source": [
    "# Running the quantum teleportation circuit"
   ]
  },
  {
   "cell_type": "markdown",
   "metadata": {},
   "source": [
    "And finally, let's simulate the circuit on Aer's `qasm_simulator`"
   ]
  },
  {
   "cell_type": "code",
   "execution_count": 35,
   "metadata": {},
   "outputs": [
    {
     "data": {
      "image/png": "[encoded data removed]",
      "text/plain": [
       "<Figure size 504x360 with 1 Axes>"
      ]
     },
     "execution_count": 35,
     "metadata": {},
     "output_type": "execute_result"
    }
   ],
   "source": [
    "simulator = Aer.get_backend('qasm_simulator')\n",
    "result = execute(circuit, backend=simulator, shots=1024).result()\n",
    "from qiskit.visualization import plot_histogram\n",
    "plot_histogram(result.get_counts(circuit))"
   ]
  },
  {
   "cell_type": "markdown",
   "metadata": {},
   "source": [
    "Note that the results above are ordered as $c_2c_1c_0$, with the bottom-most bit being $c_2$, which was the result of measuring the state in qubit 2. As you can see, the result is always $c_2 = 1$ since we teleported the state $\\vert1\\rangle$ to qubit 2."
   ]
  },
  {
   "cell_type": "markdown",
   "metadata": {},
   "source": [
    "# Bonus: creating the teleportation circuit using subcircuits"
   ]
  },
  {
   "cell_type": "markdown",
   "metadata": {},
   "source": [
    "In this section, we will build up the teleportation circuit using subcircuits. This allows us to initialize different instances of the state to be teleported, as you will see below. \n",
    "\n",
    "Note the small change in the measurement of qubit 2 -- we are measuring along the Hadamard basis, instead of along the z axis. This is achieved by the use of a Hadamard gate before the measurement."
   ]
  },
  {
   "cell_type": "code",
   "execution_count": null,
   "metadata": {},
   "outputs": [],
   "source": [
    "def create_state_psi(theta):\n",
    "    # Create a state along the x axis on the x-y plane and then rotate it by angle theta around the z-axis\n",
    "    # theta = 0 => state is exactly along x\n",
    "    # theta = pi/2 => state is exactly along y\n",
    "    create_circuit = QuantumCircuit(1, name='create_state_psi')\n",
    "    create_circuit.h(0)\n",
    "    create_circuit.rz(theta, 0)\n",
    "    return create_circuit\n",
    "\n",
    "def create_Bell_pair():\n",
    "    create_Bell_circuit = QuantumCircuit(2, name='create_Bell_pair')\n",
    "    create_Bell_circuit.h(0)\n",
    "    create_Bell_circuit.cx(0,1)\n",
    "    return create_Bell_circuit\n",
    "\n",
    "def teleportation_Alice():\n",
    "    teleportation_Alice_circuit = QuantumCircuit(2, name='teleportation_Alice')\n",
    "    teleportation_Alice_circuit.cx(0,1)\n",
    "    teleportation_Alice_circuit.h(0)\n",
    "    return teleportation_Alice_circuit\n",
    "\n",
    "def Alice_measure():\n",
    "    Alice_measure_circuit = QuantumCircuit(2, 2, name='Alice_measure')\n",
    "    Alice_measure_circuit.measure([0,1], [0,1])\n",
    "    return Alice_measure_circuit\n",
    "\n",
    "def teleportation_Bob():\n",
    "    teleportation_Bob_circuit = QuantumCircuit(3, name='teleportation_Bob')\n",
    "    teleportation_Bob_circuit.cx(1,2)\n",
    "    teleportation_Bob_circuit.cz(0,2)\n",
    "    return teleportation_Bob_circuit\n",
    "\n",
    "def build_circuit(theta):\n",
    "    circuit = QuantumCircuit(3, 3)\n",
    "    # Step 0: create the state to teleport\n",
    "    circuit.append(create_state_psi(theta).to_instruction(), [0])\n",
    "    circuit.barrier()\n",
    "    # Step 1: create the Bell pair between Alice and Bob's qubits\n",
    "    circuit.append(create_Bell_pair().to_instruction(), [1,2])\n",
    "    circuit.barrier()\n",
    "    # Step 2: Alice applies a series of operations\n",
    "    circuit.append(teleportation_Alice().to_instruction(), [0,1])\n",
    "    circuit.barrier()\n",
    "    # Step 3: Alice measures her two qubits\n",
    "    circuit.append(Alice_measure().to_instruction(), [0,1], [0,1])\n",
    "    circuit.barrier()\n",
    "    # Step 4: Bob applies operations to his qubit depending on Alice's measurement outcomes\n",
    "    circuit.append(teleportation_Bob().to_instruction(), [0,1,2])\n",
    "    circuit.barrier()\n",
    "    # Step 5: Done. Now measure Bob's qubit to be sure that teleportation was successful\n",
    "    circuit.h(2) # note that the Hadamard gate here ensures that we measure in the Hadamard basis instead of z basis\n",
    "    circuit.measure([0,1,2], [0,1,2])\n",
    "    return circuit\n",
    "\n",
    "circuit = build_circuit(0.01)\n",
    "# circuit.draw(output='mpl')"
   ]
  },
  {
   "cell_type": "markdown",
   "metadata": {},
   "source": [
    "In order to expand the circuit above, we can write"
   ]
  },
  {
   "cell_type": "code",
   "execution_count": null,
   "metadata": {},
   "outputs": [],
   "source": [
    "circuit.decompose().draw(output='mpl')"
   ]
  },
  {
   "cell_type": "code",
   "execution_count": null,
   "metadata": {},
   "outputs": [],
   "source": [
    "simulator = Aer.get_backend('qasm_simulator')\n",
    "result = execute(circuit, backend=simulator, shots=1024).result()\n",
    "counts = result.get_counts(circuit)\n",
    "print(counts)\n",
    "num_c2_zero = sum(counts[c2c1c0] for c2c1c0 in counts if c2c1c0[0] == '0')"
   ]
  },
  {
   "cell_type": "markdown",
   "metadata": {},
   "source": [
    "## Now, let's make a loop that iterates over several initial angles $\\theta$"
   ]
  },
  {
   "cell_type": "code",
   "execution_count": null,
   "metadata": {},
   "outputs": [],
   "source": [
    "import numpy as np\n",
    "thetas = np.arange(0, 4*np.pi, np.pi/16)\n",
    "\n",
    "simulator = Aer.get_backend('qasm_simulator')\n",
    "\n",
    "percent_ones = []\n",
    "\n",
    "for theta in thetas:\n",
    "    circuit = build_circuit(theta)\n",
    "    result = execute(circuit, backend=simulator, shots=1024).result()\n",
    "    counts = result.get_counts(circuit)\n",
    "    num_c2_ones = sum(counts[c2c1c0] for c2c1c0 in counts if c2c1c0[0] == '1')\n",
    "    percent_ones.append(num_c2_ones*100./1024)\n",
    "    \n",
    "import matplotlib.pyplot as plotter\n",
    "plotter.plot(thetas, percent_ones)\n",
    "plotter.xlabel('Initial angle, theta (radians)')\n",
    "plotter.ylabel('Percentage of 1 counts')\n",
    "plotter.show()"
   ]
  },
  {
   "cell_type": "markdown",
   "metadata": {},
   "source": [
    "As you can see, the measurement results show a sinusoidal periodicity. Since we are measuring along the Hadamard basis, and we begin with a state that is entirely along the $x$-axis, we are able to follow the change in phase "
   ]
  },
  {
   "cell_type": "markdown",
   "metadata": {},
   "source": [
    "# Running the teleportation circuit on real quantum hardware"
   ]
  },
  {
   "cell_type": "markdown",
   "metadata": {},
   "source": [
    "As before, we will now create circuits for various values of $\\theta$, and then send all the circuits to the IBMQ backend called `ibmq_16_melbourne`. We will map the qubits 0, 1 and 2 to the physical qubits 6, 8 and 7, respectively."
   ]
  },
  {
   "cell_type": "code",
   "execution_count": null,
   "metadata": {},
   "outputs": [],
   "source": [
    "# build circuits\n",
    "thetas = np.arange(0, 4*np.pi, np.pi/16)\n",
    "\n",
    "circuits = []\n",
    "for theta in thetas:\n",
    "    circuit = build_circuit(theta)\n",
    "    circuits.append(circuit)"
   ]
  },
  {
   "cell_type": "code",
   "execution_count": null,
   "metadata": {},
   "outputs": [],
   "source": [
    "# load account\n",
    "IBMQ.load_account()\n",
    "provider = IBMQ.get_provider(hub='ibm-q')\n",
    "qcomp = provider.get_backend('ibmq_16_melbourne')\n",
    "\n",
    "# run the job on the backend qcomp\n",
    "job = execute(circuits, backend=qcomp, shots=512, initial_layout=[6,8,7])\n",
    "print(job.job_id())\n",
    "from qiskit.tools.monitor import job_monitor\n",
    "job_monitor(job)"
   ]
  },
  {
   "cell_type": "code",
   "execution_count": null,
   "metadata": {},
   "outputs": [],
   "source": [
    "simresult = execute(circuits, backend=simulator, shots=512).result()"
   ]
  },
  {
   "cell_type": "code",
   "execution_count": null,
   "metadata": {},
   "outputs": [],
   "source": [
    "result = job.result()\n",
    "\n",
    "percent_ones = []\n",
    "for circuit in circuits:\n",
    "    thiscircuit_counts = result.get_counts(circuit)\n",
    "    num_c2_ones = sum(thiscircuit_counts[c2c1c0] for c2c1c0 in thiscircuit_counts if c2c1c0[0] == '1')\n",
    "    percent_ones.append(num_c2_ones*100./512)\n",
    "    \n",
    "percent_ones_sim = []\n",
    "for circuit in circuits:\n",
    "    thiscircuit_counts = simresult.get_counts(circuit)\n",
    "    num_c2_ones = sum(thiscircuit_counts[c2c1c0] for c2c1c0 in thiscircuit_counts if c2c1c0[0] == '1')\n",
    "    percent_ones_sim.append(num_c2_ones*100./512)\n",
    "    \n",
    "\n",
    "plotter.plot(thetas, percent_ones, 'r.', label='Real device')\n",
    "plotter.plot(thetas, percent_ones_sim, 'k', label='Simulator')\n",
    "plotter.xlabel('Initial angle, theta (radians)')\n",
    "plotter.ylabel('Percentage of 1 counts')\n",
    "plotter.legend()\n",
    "plotter.show()"
   ]
  },
  {
   "cell_type": "markdown",
   "metadata": {},
   "source": [
    "# Quantum teleportation over long distances"
   ]
  },
  {
   "cell_type": "markdown",
   "metadata": {},
   "source": [
    "In the above work, Bob applied quantum gates to his half of the Bell pair based on Alice's qubits. This is a simplified version of the teleportation algorithm. The most useful aspect of the algorithm becomes apparent when, instead of using Alice's qubits for controlling Bob's gates, we use the classical outcomes of the measurement of Alice's qubits for controlling Bob's gates.\n",
    "\n",
    "In Qiskit, this is achieved using `c_if` as shown below. This feature of conditioning a quantum gate on a classical register is currently unavailable on the real quantum hardware, and circuits containing this feature can only be executed on the simulators."
   ]
  },
  {
   "cell_type": "code",
   "execution_count": null,
   "metadata": {},
   "outputs": [],
   "source": [
    "thetas = np.arange(0, 4*np.pi, np.pi/16)\n",
    "circuits_classicalcontrol = []\n",
    "for theta in thetas:\n",
    "    cr1 = ClassicalRegister(1)\n",
    "    cr2 = ClassicalRegister(1)\n",
    "    cr3 = ClassicalRegister(1)\n",
    "    qr = QuantumRegister(3)\n",
    "    circuit = QuantumCircuit(qr, cr1, cr2, cr3)\n",
    "\n",
    "    # ========================\n",
    "    # Step 0: Create the state to be teleported in qubit 0\n",
    "    circuit.h(0)\n",
    "    circuit.rz(theta, 0)\n",
    "    circuit.barrier()\n",
    "    # ========================\n",
    "    # Step 1: create an entangled Bell pair between Alice and Bob (qubits 1 and 2)\n",
    "    circuit.h(1)\n",
    "    circuit.cx(1,2)\n",
    "    circuit.barrier()\n",
    "    # ========================\n",
    "    # Step 2: Alice applies a series of operations \n",
    "    # between the state to teleport (qubit 0) and her half of the Bell pair (qubit 1)\n",
    "    circuit.cx(0,1)\n",
    "    circuit.h(0)\n",
    "    circuit.barrier()\n",
    "    # ========================\n",
    "    # Step 3: Alice measures both qubits 0 and 1\n",
    "    circuit.measure([0, 1], [0, 1]) # results stored in classical bits 0 and 1, respectively\n",
    "    circuit.barrier()\n",
    "    # ========================\n",
    "    # Step 4: Now that Alice has measured the two qubits, their states have collapsed to 0 and 1. \n",
    "    # Use the classical bits from Alice's measurements to do operations on Bob's half of the Bell pair\n",
    "    circuit.x(2).c_if(cr2, 1)\n",
    "    circuit.z(2).c_if(cr1, 1)\n",
    "    circuit.barrier()\n",
    "    # Step 5: Done! Measure Bob's qubit in the Hadamard basis to find out what state it is in\n",
    "    circuit.h(2)\n",
    "    circuit.measure([2], [2])\n",
    "    \n",
    "    circuits_classicalcontrol.append(circuit)\n",
    "    \n",
    "circuits_classicalcontrol[0].draw()"
   ]
  },
  {
   "cell_type": "code",
   "execution_count": null,
   "metadata": {},
   "outputs": [],
   "source": [
    "simulator = Aer.get_backend('qasm_simulator')\n",
    "simresult_classicalcontrol = execute(circuits_classicalcontrol, backend=simulator, shots=512).result()\n",
    "\n",
    "percent_ones_sim = []\n",
    "for ii in range(len((circuits))):\n",
    "    thiscircuit_counts = simresult_classicalcontrol.get_counts(ii)\n",
    "    num_c2_ones = sum(thiscircuit_counts[c2c1c0] for c2c1c0 in thiscircuit_counts if c2c1c0[0] == '1')\n",
    "    percent_ones_sim.append(num_c2_ones*100./512)\n",
    "    \n",
    "plotter.plot(thetas, percent_ones_sim, 'k', label='Simulator')\n",
    "plotter.xlabel('Initial angle, theta (radians)')\n",
    "plotter.ylabel('Percentage of 1 counts')\n",
    "plotter.legend()\n",
    "plotter.show()"
   ]
  },
  {
   "cell_type": "markdown",
   "metadata": {},
   "source": [
    "Notice that the above results were achieved without any quantum gates between qubits 1 and 2 after they were entangled. In fact, the two qubits can be physically separated. As long as the classical information from the two measurements of Alice's qubits can be transferred quickly enough, teleportation can be achieved over long distances."
   ]
  },
  {
   "cell_type": "markdown",
   "metadata": {},
   "source": [
    "# References"
   ]
  },
  {
   "cell_type": "markdown",
   "metadata": {},
   "source": [
    "#### Journal Papers\n",
    "\n",
    "1. Charles Bennett et al., \n",
    "Teleporting an Unknown Quantum State via Dual Classical and Einstein-Podolsky-Rosen Channels. \n",
    "Phys. Rev. Lett. **70**, 1895 (1993). <a id='1'>https://journals.aps.org/prl/abstract/10.1103/PhysRevLett.70.1895</a>\n",
    "\n",
    "\n",
    "2. W. K. Wootters & W. H. Zurek, \n",
    "A single quantum cannot be cloned. \n",
    "Nature **299**, 802 (1982). <a id='2'>https://www.nature.com/articles/299802a0</a>\n",
    "\n",
    "#### Tutorials\n",
    "For detailed information about Qiskit, check out the tutorials in the Github repository:\n",
    "\n",
    "https://github.com/Qiskit/qiskit-iqx-tutorials\n",
    "\n",
    "For a pedagogical presentation of the mathematics behind the quantum teleportation circuit, check out our open-source `Learn Quantum Computation using Qiskit` textbook:\n",
    "\n",
    "https://community.qiskit.org/textbook/"
   ]
  },
  {
   "cell_type": "markdown",
   "metadata": {},
   "source": [
    "# Version"
   ]
  },
  {
   "cell_type": "markdown",
   "metadata": {},
   "source": [
    "It's good to note the Qiskit version that was used in your work. One way to do this is print the version at the bottom of the Jupyter notebook using"
   ]
  },
  {
   "cell_type": "code",
   "execution_count": null,
   "metadata": {},
   "outputs": [],
   "source": [
    "qiskit.__qiskit_version__"
   ]
  },
  {
   "cell_type": "code",
   "execution_count": null,
   "metadata": {},
   "outputs": [],
   "source": [
    "import qiskit.tools.jupyter\n",
    "%qiskit_copyright"
   ]
  }
 ],
 "metadata": {
  "kernelspec": {
   "display_name": "Python 3",
   "language": "python",
   "name": "python3"
  },
  "language_info": {
   "codemirror_mode": {
    "name": "ipython",
    "version": 3
   },
   "file_extension": ".py",
   "mimetype": "text/x-python",
   "name": "python",
   "nbconvert_exporter": "python",
   "pygments_lexer": "ipython3",
   "version": "3.7.6"
  }
 },
 "nbformat": 4,
 "nbformat_minor": 2
}
